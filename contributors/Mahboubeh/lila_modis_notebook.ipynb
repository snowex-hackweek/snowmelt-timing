{
 "cells": [
  {
   "cell_type": "code",
   "execution_count": null,
   "id": "5164b4ba-c898-477a-ae85-4864e3cf0713",
   "metadata": {},
   "outputs": [],
   "source": [
    "import pandas as pd\n",
    "import matplotlib.pyplot as plt\n",
    "from datetime import datetime\n",
    "import matplotlib.dates as mdates"
   ]
  },
  {
   "cell_type": "code",
   "execution_count": null,
   "id": "2817f9cc-4faa-46b6-8ddf-f42ec98fe358",
   "metadata": {},
   "outputs": [],
   "source": [
    "!pwd"
   ]
  },
  {
   "cell_type": "code",
   "execution_count": null,
   "id": "4ddc5361-0c30-4473-b72c-106f5d75bfb4",
   "metadata": {},
   "outputs": [],
   "source": [
    "mesa_west_filename = \"../../modis/mesa_west_fsca.csv\"\n",
    "county_line_filename = \"../../modis/county_line_fsca.csv\"\n",
    "skyway_filename = \"../../modis/skyway_fsca.csv\""
   ]
  },
  {
   "cell_type": "code",
   "execution_count": null,
   "id": "eaa97440-e4bb-4bd7-856c-f81d87cc20ae",
   "metadata": {},
   "outputs": [],
   "source": [
    "mesa_west=pd.read_csv(mesa_west_filename)\n",
    "county_line=pd.read_csv(county_line_filename)\n",
    "skyway=pd.read_csv(skyway_filename)"
   ]
  },
  {
   "cell_type": "code",
   "execution_count": null,
   "id": "3822c0c3-f928-4449-b1ad-79af3f43f0d5",
   "metadata": {},
   "outputs": [],
   "source": [
    "type(mesa_west)"
   ]
  },
  {
   "cell_type": "code",
   "execution_count": null,
   "id": "7977c9d1-d17b-46b7-a12c-88b25719bb03",
   "metadata": {},
   "outputs": [],
   "source": [
    "mesa_west['system:time_start'] = pd.to_datetime(mesa_west['system:time_start'])#, format= '%Y-%m-%d')\n",
    "county_line['system:time_start'] = pd.to_datetime(mesa_west['system:time_start'])#, format= '%Y-%m-%d')\n",
    "skyway['system:time_start'] = pd.to_datetime(mesa_west['system:time_start'])#, format= '%Y-%m-%d')"
   ]
  },
  {
   "cell_type": "code",
   "execution_count": null,
   "id": "11c6d52f-24c7-49ca-80cf-c551505eff17",
   "metadata": {},
   "outputs": [],
   "source": [
    "mesa_west.rename(columns = {'NDSI_Snow_Cover':'Fractional_Snow_Cover'}, inplace = True)\n",
    "county_line.rename(columns = {'NDSI_Snow_Cover':'Fractional_Snow_Cover'}, inplace = True)\n",
    "skyway.rename(columns = {'NDSI_Snow_Cover':'Fractional_Snow_Cover'}, inplace = True)"
   ]
  },
  {
   "cell_type": "code",
   "execution_count": null,
   "id": "cceacead-16e3-4f33-a43c-8aa27e44d43e",
   "metadata": {
    "tags": []
   },
   "outputs": [],
   "source": [
    "fig, axes = plt.subplots(nrows=1, ncols=3, figsize=(32, 5), sharex=False)\n",
    "\n",
    "mesa_west.plot.scatter(ax=axes[0], x='system:time_start', y='Fractional_Snow_Cover', title='Mesa_west')\n",
    "county_line.plot.scatter(ax=axes[1], x='system:time_start', y='Fractional_Snow_Cover', title='County_line')\n",
    "skyway.plot.scatter(ax=axes[2], x='system:time_start', y='Fractional_Snow_Cover', title='Mesa_west')"
   ]
  },
  {
   "cell_type": "code",
   "execution_count": null,
   "id": "2460087b-f05c-49ec-8fee-5dbcd6594692",
   "metadata": {},
   "outputs": [],
   "source": []
  },
  {
   "cell_type": "code",
   "execution_count": null,
   "id": "7695da24-0ef0-4a67-a326-90d486b7114e",
   "metadata": {},
   "outputs": [],
   "source": []
  }
 ],
 "metadata": {
  "kernelspec": {
   "display_name": "Python 3 (ipykernel)",
   "language": "python",
   "name": "python3"
  },
  "language_info": {
   "codemirror_mode": {
    "name": "ipython",
    "version": 3
   },
   "file_extension": ".py",
   "mimetype": "text/x-python",
   "name": "python",
   "nbconvert_exporter": "python",
   "pygments_lexer": "ipython3",
   "version": "3.10.5"
  }
 },
 "nbformat": 4,
 "nbformat_minor": 5
}
