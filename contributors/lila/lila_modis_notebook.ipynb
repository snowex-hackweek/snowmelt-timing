{
 "cells": [
  {
   "cell_type": "code",
   "execution_count": 1,
   "id": "5164b4ba-c898-477a-ae85-4864e3cf0713",
   "metadata": {},
   "outputs": [],
   "source": [
    "import pandas as pd\n",
    "import matplotlib.pyplot as plt\n",
    "from datetime import datetime\n",
    "import matplotlib.dates as mdates"
   ]
  },
  {
   "cell_type": "markdown",
   "id": "8744aa60-cde9-4fb2-810b-eed559b71620",
   "metadata": {},
   "source": [
    "# filename organization \n",
    "Snow pits \n",
    "wo_sp\n",
    "wt\n",
    "co\n",
    "ct\n",
    "so\n",
    "st\n",
    "\n",
    "Snotel\n",
    "\n",
    "pr\n",
    "\n",
    "Sentinel 1\n",
    "wo_s1\n",
    "wt_s1\n",
    "co\n",
    "ct\n",
    "so\n",
    "st\n",
    "\n",
    "\n",
    "Sentinel 2 \n",
    "\n",
    "Modis \n",
    "w_mod\n",
    "c_mod\n",
    "s_mod"
   ]
  },
  {
   "cell_type": "code",
   "execution_count": 2,
   "id": "2817f9cc-4faa-46b6-8ddf-f42ec98fe358",
   "metadata": {},
   "outputs": [
    {
     "name": "stdout",
     "output_type": "stream",
     "text": [
      "/home/jovyan/snowmelt-timing/contributors/lila\n"
     ]
    }
   ],
   "source": [
    "!pwd"
   ]
  },
  {
   "cell_type": "code",
   "execution_count": 3,
   "id": "4ddc5361-0c30-4473-b72c-106f5d75bfb4",
   "metadata": {},
   "outputs": [],
   "source": [
    "#defining file paths for modis data\n",
    "\n",
    "mesa_west_modis_filename = \"../../modis/mesa_west_fsca.csv\"\n",
    "county_line_modis_filename = \"../../modis/county_line_fsca.csv\"\n",
    "skyway_modis_filename = \"../../modis/skyway_fsca.csv\""
   ]
  },
  {
   "cell_type": "code",
   "execution_count": 4,
   "id": "88418cd0-f321-468a-8e49-8db6c7c2db18",
   "metadata": {},
   "outputs": [],
   "source": [
    "#defining file paths for sentinel data\n",
    "\n",
    "mesa_west_sentinel_open_filename = \"../../sentinel/Mesa West Open.csv\"\n",
    "mesa_west_sentinel_trees_filename = \"../../sentinel/Mesa West Trees.csv\"\n",
    "county_line_sentinel_open_filename = \"../../sentinel/County Line Open.csv\"\n",
    "county_line_sentinel_trees_filename = \"../../sentinel/County Line Tree.csv\"\n",
    "skyway_sentinel_open_filename = \"../../sentinel/Skyway Open.csv\"\n",
    "skyway_sentinel_trees_filename = \"../../sentinel/Skyway Tree.csv\""
   ]
  },
  {
   "cell_type": "code",
   "execution_count": 21,
   "id": "58ecb5fa-47ba-40bb-9e64-a7f832b2b0a7",
   "metadata": {},
   "outputs": [],
   "source": [
    "#defining file paths for snowpit data\n",
    "\n",
    "mesa_west_snowpits_open_filename = \"../../data/snowpits/mesawest-open_swe.csv\"\n",
    "mesa_west_snowpits_trees_filename = \"../../data/snowpits/mesawest-tree_swe.csv\"\n",
    "county_line_snowpits_open_filename = \"../../data/snowpits/countyline-open_swe.csv\"\n",
    "county_line_snowpits_trees_filename = \"../../data/snowpits/countyline-tree_swe.csv\"\n",
    "skyway_snowpits_open_filename = \"../../data/snowpits/skyway-open_swe.csv\"\n",
    "skyway_snowpits_trees_filename = \"../../data/snowpits/skyway-tree_swe.csv\""
   ]
  },
  {
   "cell_type": "code",
   "execution_count": 5,
   "id": "eaa97440-e4bb-4bd7-856c-f81d87cc20ae",
   "metadata": {},
   "outputs": [],
   "source": [
    "#read modis csvs\n",
    "\n",
    "mesa_west_modis=pd.read_csv(mesa_west_modis_filename)\n",
    "county_line_modis=pd.read_csv(county_line_modis_filename)\n",
    "skyway_modis=pd.read_csv(skyway_modis_filename)"
   ]
  },
  {
   "cell_type": "code",
   "execution_count": 6,
   "id": "3dff435a-ac03-41e7-8223-fbfcd70dbce1",
   "metadata": {},
   "outputs": [],
   "source": [
    "#read sentinel csvs\n",
    "\n",
    "mesa_west_sentinel_open=pd.read_csv(mesa_west_sentinel_open_filename)\n",
    "mesa_west_sentinel_trees=pd.read_csv(mesa_west_sentinel_trees_filename)\n",
    "county_line_sentinel_open=pd.read_csv(county_line_sentinel_open_filename)\n",
    "county_line_sentinel_trees=pd.read_csv(county_line_sentinel_trees_filename)\n",
    "skyway_sentinel_open=pd.read_csv(skyway_sentinel_open_filename)\n",
    "skyway_sentinel_trees=pd.read_csv(skyway_sentinel_trees_filename)"
   ]
  },
  {
   "cell_type": "code",
   "execution_count": 31,
   "id": "18b576ea-e124-4273-8aeb-33790a7f3555",
   "metadata": {},
   "outputs": [
    {
     "data": {
      "text/html": [
       "<div>\n",
       "<style scoped>\n",
       "    .dataframe tbody tr th:only-of-type {\n",
       "        vertical-align: middle;\n",
       "    }\n",
       "\n",
       "    .dataframe tbody tr th {\n",
       "        vertical-align: top;\n",
       "    }\n",
       "\n",
       "    .dataframe thead th {\n",
       "        text-align: right;\n",
       "    }\n",
       "</style>\n",
       "<table border=\"1\" class=\"dataframe\">\n",
       "  <thead>\n",
       "    <tr style=\"text-align: right;\">\n",
       "      <th></th>\n",
       "      <th>Site</th>\n",
       "      <th>date</th>\n",
       "      <th>swe (mm)</th>\n",
       "    </tr>\n",
       "  </thead>\n",
       "  <tbody>\n",
       "    <tr>\n",
       "      <th>0</th>\n",
       "      <td>Mesa West Open</td>\n",
       "      <td>2020-03-05 08:09:00</td>\n",
       "      <td>247.5</td>\n",
       "    </tr>\n",
       "    <tr>\n",
       "      <th>1</th>\n",
       "      <td>Mesa West Open</td>\n",
       "      <td>2020-03-16 08:41:00</td>\n",
       "      <td>330.0</td>\n",
       "    </tr>\n",
       "    <tr>\n",
       "      <th>2</th>\n",
       "      <td>Mesa West Open</td>\n",
       "      <td>2020-03-16 13:58:00</td>\n",
       "      <td>295.0</td>\n",
       "    </tr>\n",
       "    <tr>\n",
       "      <th>3</th>\n",
       "      <td>Mesa West Open</td>\n",
       "      <td>2020-03-16 15:19:00</td>\n",
       "      <td>215.5</td>\n",
       "    </tr>\n",
       "    <tr>\n",
       "      <th>4</th>\n",
       "      <td>Mesa West Open</td>\n",
       "      <td>2020-03-31 09:34:00</td>\n",
       "      <td>376.0</td>\n",
       "    </tr>\n",
       "    <tr>\n",
       "      <th>5</th>\n",
       "      <td>Mesa West Open</td>\n",
       "      <td>2020-03-31 15:30:00</td>\n",
       "      <td>482.5</td>\n",
       "    </tr>\n",
       "    <tr>\n",
       "      <th>6</th>\n",
       "      <td>Mesa West Open</td>\n",
       "      <td>2020-04-08 15:51:00</td>\n",
       "      <td>436.5</td>\n",
       "    </tr>\n",
       "    <tr>\n",
       "      <th>7</th>\n",
       "      <td>Mesa West Open</td>\n",
       "      <td>2020-04-09 05:50:00</td>\n",
       "      <td>462.0</td>\n",
       "    </tr>\n",
       "    <tr>\n",
       "      <th>8</th>\n",
       "      <td>Mesa West Open</td>\n",
       "      <td>2020-04-09 12:18:00</td>\n",
       "      <td>475.0</td>\n",
       "    </tr>\n",
       "    <tr>\n",
       "      <th>9</th>\n",
       "      <td>Mesa West Open</td>\n",
       "      <td>2020-04-09 16:15:00</td>\n",
       "      <td>418.5</td>\n",
       "    </tr>\n",
       "  </tbody>\n",
       "</table>\n",
       "</div>"
      ],
      "text/plain": [
       "             Site                 date  swe (mm)\n",
       "0  Mesa West Open  2020-03-05 08:09:00     247.5\n",
       "1  Mesa West Open  2020-03-16 08:41:00     330.0\n",
       "2  Mesa West Open  2020-03-16 13:58:00     295.0\n",
       "3  Mesa West Open  2020-03-16 15:19:00     215.5\n",
       "4  Mesa West Open  2020-03-31 09:34:00     376.0\n",
       "5  Mesa West Open  2020-03-31 15:30:00     482.5\n",
       "6  Mesa West Open  2020-04-08 15:51:00     436.5\n",
       "7  Mesa West Open  2020-04-09 05:50:00     462.0\n",
       "8  Mesa West Open  2020-04-09 12:18:00     475.0\n",
       "9  Mesa West Open  2020-04-09 16:15:00     418.5"
      ]
     },
     "execution_count": 31,
     "metadata": {},
     "output_type": "execute_result"
    }
   ],
   "source": [
    "#read snowpit csvs\n",
    "\n",
    "mesa_west_snowpits_open=pd.read_csv(mesa_west_snowpits_open_filename)\n",
    "mesa_west_snowpits_trees=pd.read_csv(mesa_west_snowpits_trees_filename)\n",
    "county_line_snowpits_open=pd.read_csv(county_line_snowpits_open_filename)\n",
    "county_line_snowpits_trees=pd.read_csv(county_line_snowpits_trees_filename)\n",
    "skyway_snowpits_open=pd.read_csv(skyway_snowpits_open_filename)\n",
    "skyway_snowpits_trees=pd.read_csv(skyway_snowpits_trees_filename)"
   ]
  },
  {
   "cell_type": "code",
   "execution_count": 32,
   "id": "5337e00d-0502-464b-b223-bf590a45b845",
   "metadata": {},
   "outputs": [],
   "source": [
    "#rename date columns for modis\n",
    "\n",
    "mesa_west_modis.rename(columns = {'system:time_start':'date'}, inplace = True)\n",
    "county_line_modis.rename(columns = {'system:time_start':'date'}, inplace = True)\n",
    "skyway_modis.rename(columns = {'system:time_start':'date'}, inplace = True)"
   ]
  },
  {
   "cell_type": "code",
   "execution_count": 35,
   "id": "9ffd869a-cc51-422a-a555-c55e16306063",
   "metadata": {},
   "outputs": [
    {
     "data": {
      "text/html": [
       "<div>\n",
       "<style scoped>\n",
       "    .dataframe tbody tr th:only-of-type {\n",
       "        vertical-align: middle;\n",
       "    }\n",
       "\n",
       "    .dataframe tbody tr th {\n",
       "        vertical-align: top;\n",
       "    }\n",
       "\n",
       "    .dataframe thead th {\n",
       "        text-align: right;\n",
       "    }\n",
       "</style>\n",
       "<table border=\"1\" class=\"dataframe\">\n",
       "  <thead>\n",
       "    <tr style=\"text-align: right;\">\n",
       "      <th></th>\n",
       "      <th>Site</th>\n",
       "      <th>date</th>\n",
       "      <th>swe</th>\n",
       "    </tr>\n",
       "  </thead>\n",
       "  <tbody>\n",
       "    <tr>\n",
       "      <th>0</th>\n",
       "      <td>Mesa West Open</td>\n",
       "      <td>2020-03-05 08:09:00</td>\n",
       "      <td>247.5</td>\n",
       "    </tr>\n",
       "    <tr>\n",
       "      <th>1</th>\n",
       "      <td>Mesa West Open</td>\n",
       "      <td>2020-03-16 08:41:00</td>\n",
       "      <td>330.0</td>\n",
       "    </tr>\n",
       "    <tr>\n",
       "      <th>2</th>\n",
       "      <td>Mesa West Open</td>\n",
       "      <td>2020-03-16 13:58:00</td>\n",
       "      <td>295.0</td>\n",
       "    </tr>\n",
       "    <tr>\n",
       "      <th>3</th>\n",
       "      <td>Mesa West Open</td>\n",
       "      <td>2020-03-16 15:19:00</td>\n",
       "      <td>215.5</td>\n",
       "    </tr>\n",
       "    <tr>\n",
       "      <th>4</th>\n",
       "      <td>Mesa West Open</td>\n",
       "      <td>2020-03-31 09:34:00</td>\n",
       "      <td>376.0</td>\n",
       "    </tr>\n",
       "    <tr>\n",
       "      <th>5</th>\n",
       "      <td>Mesa West Open</td>\n",
       "      <td>2020-03-31 15:30:00</td>\n",
       "      <td>482.5</td>\n",
       "    </tr>\n",
       "    <tr>\n",
       "      <th>6</th>\n",
       "      <td>Mesa West Open</td>\n",
       "      <td>2020-04-08 15:51:00</td>\n",
       "      <td>436.5</td>\n",
       "    </tr>\n",
       "    <tr>\n",
       "      <th>7</th>\n",
       "      <td>Mesa West Open</td>\n",
       "      <td>2020-04-09 05:50:00</td>\n",
       "      <td>462.0</td>\n",
       "    </tr>\n",
       "    <tr>\n",
       "      <th>8</th>\n",
       "      <td>Mesa West Open</td>\n",
       "      <td>2020-04-09 12:18:00</td>\n",
       "      <td>475.0</td>\n",
       "    </tr>\n",
       "    <tr>\n",
       "      <th>9</th>\n",
       "      <td>Mesa West Open</td>\n",
       "      <td>2020-04-09 16:15:00</td>\n",
       "      <td>418.5</td>\n",
       "    </tr>\n",
       "  </tbody>\n",
       "</table>\n",
       "</div>"
      ],
      "text/plain": [
       "             Site                 date    swe\n",
       "0  Mesa West Open  2020-03-05 08:09:00  247.5\n",
       "1  Mesa West Open  2020-03-16 08:41:00  330.0\n",
       "2  Mesa West Open  2020-03-16 13:58:00  295.0\n",
       "3  Mesa West Open  2020-03-16 15:19:00  215.5\n",
       "4  Mesa West Open  2020-03-31 09:34:00  376.0\n",
       "5  Mesa West Open  2020-03-31 15:30:00  482.5\n",
       "6  Mesa West Open  2020-04-08 15:51:00  436.5\n",
       "7  Mesa West Open  2020-04-09 05:50:00  462.0\n",
       "8  Mesa West Open  2020-04-09 12:18:00  475.0\n",
       "9  Mesa West Open  2020-04-09 16:15:00  418.5"
      ]
     },
     "execution_count": 35,
     "metadata": {},
     "output_type": "execute_result"
    }
   ],
   "source": [
    "#rename swe columns for snowpits\n",
    "\n",
    "mesa_west_snowpits_open.rename(columns = {'swe (mm)':'swe'}, inplace = True)\n",
    "mesa_west_snowpits_trees.rename(columns = {'swe (mm)':'swe'}, inplace = True)\n",
    "county_line_snowpits_open.rename(columns = {'swe (mm)':'swe'}, inplace = True)\n",
    "county_line_snowpits_trees.rename(columns = {'swe (mm)':'swe'}, inplace = True)\n",
    "skyway_snowpits_open.rename(columns = {'swe (mm)':'swe'}, inplace = True)\n",
    "skyway_snowpits_trees.rename(columns = {'swe (mm)':'swe'}, inplace = True)\n",
    "mesa_west_snowpits_open"
   ]
  },
  {
   "cell_type": "code",
   "execution_count": 28,
   "id": "6d801a10-3690-4557-9693-d9bcddfbdb9d",
   "metadata": {},
   "outputs": [],
   "source": [
    "#rename date columns for sentinel \n",
    "\n",
    "mesa_west_sentinel_open.rename(columns = {'datime':'date'}, inplace = True)\n",
    "mesa_west_sentinel_trees.rename(columns = {'datime':'date'}, inplace = True)\n",
    "county_line_sentinel_open.rename(columns = {'datime':'date'}, inplace = True)\n",
    "county_line_sentinel_trees.rename(columns = {'datime':'date'}, inplace = True)\n",
    "skyway_sentinel_open.rename(columns = {'datime':'date'}, inplace = True)\n",
    "skyway_sentinel_trees.rename(columns = {'datime':'date'}, inplace = True)"
   ]
  },
  {
   "cell_type": "code",
   "execution_count": 9,
   "id": "7977c9d1-d17b-46b7-a12c-88b25719bb03",
   "metadata": {},
   "outputs": [],
   "source": [
    "#change modis to datetime \n",
    "\n",
    "mesa_west_modis['date'] = pd.to_datetime(mesa_west_modis['date'])#, format= '%Y-%m-%d')\n",
    "county_line_modis['date'] = pd.to_datetime(mesa_west_modis['date'])#, format= '%Y-%m-%d')\n",
    "skyway_modis['date'] = pd.to_datetime(mesa_west_modis['date'])#, format= '%Y-%m-%d')"
   ]
  },
  {
   "cell_type": "code",
   "execution_count": 10,
   "id": "1865869b-f466-411e-b4c6-e41ee69ac170",
   "metadata": {},
   "outputs": [],
   "source": [
    "#change sentinel data to datetime \n",
    "\n",
    "mesa_west_sentinel_open['date']= pd.to_datetime(mesa_west_sentinel_open['date'])\n",
    "mesa_west_sentinel_trees['date']= pd.to_datetime(mesa_west_sentinel_trees['date'])\n",
    "county_line_sentinel_open['date']= pd.to_datetime(county_line_sentinel_open['date'])\n",
    "county_line_sentinel_trees['date']= pd.to_datetime(county_line_sentinel_trees['date'])\n",
    "skyway_sentinel_open['date']= pd.to_datetime(skyway_sentinel_open['date'])\n",
    "skyway_sentinel_trees['date']= pd.to_datetime(skyway_sentinel_trees['date'])"
   ]
  },
  {
   "cell_type": "code",
   "execution_count": 11,
   "id": "71a23324-e340-4eb9-b1b7-73a5764a8211",
   "metadata": {},
   "outputs": [
    {
     "name": "stderr",
     "output_type": "stream",
     "text": [
      "/tmp/ipykernel_5069/3232031502.py:3: FutureWarning: The pandas.datetime class is deprecated and will be removed from pandas in a future version. Import from datetime module instead.\n",
      "  start_date = pd.datetime(2019,12,1)\n",
      "/tmp/ipykernel_5069/3232031502.py:4: FutureWarning: The pandas.datetime class is deprecated and will be removed from pandas in a future version. Import from datetime module instead.\n",
      "  end_date = pd.datetime(2020,8,1)\n"
     ]
    }
   ],
   "source": [
    "#slice sentinel dates \n",
    "\n",
    "start_date = pd.datetime(2019,12,1)\n",
    "end_date = pd.datetime(2020,8,1)\n",
    "\n",
    "mask_mo = (mesa_west_sentinel_open['date'] > start_date) & (mesa_west_sentinel_open['date'] <= end_date)\n",
    "mask_mt = (mesa_west_sentinel_trees['date'] > start_date) & (mesa_west_sentinel_trees['date'] <= end_date)\n",
    "mask_co = (county_line_sentinel_open['date'] > start_date) & (mesa_west_sentinel_open['date'] <= end_date)\n",
    "mask_ct = (county_line_sentinel_trees['date'] > start_date) & (mesa_west_sentinel_trees['date'] <= end_date)\n",
    "mask_so = (skyway_sentinel_open['date'] > start_date) & (mesa_west_sentinel_open['date'] <= end_date)\n",
    "mask_st = (skyway_sentinel_trees['date'] > start_date) & (mesa_west_sentinel_trees['date'] <= end_date)\n",
    "\n",
    "mesa_west_sentinel_open = mesa_west_sentinel_open.loc[mask_mo]\n",
    "mesa_west_sentinel_trees = mesa_west_sentinel_trees.loc[mask_mt]\n",
    "county_line_sentinel_open = mesa_west_sentinel_open.loc[mask_co]\n",
    "county_line_sentinel_trees = mesa_west_sentinel_trees.loc[mask_ct]\n",
    "skyway_sentinel_open = mesa_west_sentinel_open.loc[mask_so]\n",
    "skyway_sentinel_trees = mesa_west_sentinel_trees.loc[mask_st]"
   ]
  },
  {
   "cell_type": "code",
   "execution_count": 42,
   "id": "cceacead-16e3-4f33-a43c-8aa27e44d43e",
   "metadata": {},
   "outputs": [
    {
     "data": {
      "text/plain": [
       "<AxesSubplot:xlabel='date', ylabel='swe'>"
      ]
     },
     "execution_count": 42,
     "metadata": {},
     "output_type": "execute_result"
    },
    {
     "data": {
      "image/png": "[encoded data removed]",
      "text/plain": [
       "<Figure size 2304x864 with 2 Axes>"
      ]
     },
     "metadata": {
      "needs_background": "light"
     },
     "output_type": "display_data"
    }
   ],
   "source": [
    "#plot mesa west \n",
    "\n",
    "fig, axes = plt.subplots(nrows=1, ncols=2, figsize=(32, 12), sharex=False)\n",
    "\n",
    "mesa_west_modis.plot.scatter(ax=axes[0], x='date', y='NDSI_Snow_Cover', c='b')\n",
    "mesa_west_sentinel_open.plot(ax=axes[0], x='date', y='backcsatter_watts')\n",
    "mesa_west_snowpits_open.plot.scatter(ax=axes[0], x='date', y='swe', c='r')\n",
    "\n",
    "mesa_west_modis.plot.scatter(ax=axes[1], x='date', y='NDSI_Snow_Cover', c='b')\n",
    "mesa_west_sentinel_trees.plot(ax=axes[1], x='date', y='backcsatter_watts')\n",
    "mesa_west_snowpits_trees.plot.scatter(ax=axes[1], x='date', y='swe', c='r')"
   ]
  },
  {
   "cell_type": "code",
   "execution_count": 43,
   "id": "a92aecf6-9714-4746-ab5e-010b54454f84",
   "metadata": {},
   "outputs": [
    {
     "data": {
      "text/plain": [
       "<AxesSubplot:xlabel='date', ylabel='swe'>"
      ]
     },
     "execution_count": 43,
     "metadata": {},
     "output_type": "execute_result"
    },
    {
     "data": {
      "image/png": "[encoded data removed]",
      "text/plain": [
       "<Figure size 2304x864 with 2 Axes>"
      ]
     },
     "metadata": {
      "needs_background": "light"
     },
     "output_type": "display_data"
    }
   ],
   "source": [
    "#plot county line \n",
    "\n",
    "fig, axes = plt.subplots(nrows=1, ncols=2, figsize=(32, 12), sharex=False)\n",
    "\n",
    "county_line_modis.plot.scatter(ax=axes[0], x='date', y='NDSI_Snow_Cover')\n",
    "county_line_sentinel_open.plot(ax=axes[0], x='date', y='backcsatter_watts')\n",
    "county_line_snowpits_open.plot.scatter(ax=axes[0], x='date', y='swe', c='r')\n",
    "\n",
    "county_line_modis.plot.scatter(ax=axes[1], x='date', y='NDSI_Snow_Cover')\n",
    "county_line_sentinel_trees.plot(ax=axes[1], x='date', y='backcsatter_watts')\n",
    "county_line_snowpits_trees.plot.scatter(ax=axes[1], x='date', y='swe', c='r')"
   ]
  },
  {
   "cell_type": "code",
   "execution_count": 44,
   "id": "691c1e4d-b47f-41e3-b178-860bbb0a53db",
   "metadata": {},
   "outputs": [
    {
     "data": {
      "text/plain": [
       "<AxesSubplot:xlabel='date', ylabel='swe'>"
      ]
     },
     "execution_count": 44,
     "metadata": {},
     "output_type": "execute_result"
    },
    {
     "data": {
      "image/png": "[encoded data removed]",
      "text/plain": [
       "<Figure size 2304x864 with 2 Axes>"
      ]
     },
     "metadata": {
      "needs_background": "light"
     },
     "output_type": "display_data"
    }
   ],
   "source": [
    "#plot skyway\n",
    "\n",
    "fig, axes = plt.subplots(nrows=1, ncols=2, figsize=(32, 12), sharex=False)\n",
    "\n",
    "skyway_modis.plot.scatter(ax=axes[0], x='date', y='NDSI_Snow_Cover')\n",
    "skyway_sentinel_open.plot(ax=axes[0], x='date', y='backcsatter_watts')\n",
    "skyway_snowpits_open.plot.scatter(ax=axes[0], x='date', y='swe', c='r')\n",
    "\n",
    "skyway_modis.plot.scatter(ax=axes[1], x='date', y='NDSI_Snow_Cover')\n",
    "skyway_sentinel_trees.plot(ax=axes[1], x='date', y='backcsatter_watts')\n",
    "skyway_snowpits_trees.plot.scatter(ax=axes[1], x='date', y='swe', c='r')"
   ]
  },
  {
   "cell_type": "code",
   "execution_count": null,
   "id": "0ee229bc-2c42-4d78-a357-76b25f686823",
   "metadata": {},
   "outputs": [],
   "source": []
  }
 ],
 "metadata": {
  "kernelspec": {
   "display_name": "Python 3 (ipykernel)",
   "language": "python",
   "name": "python3"
  },
  "language_info": {
   "codemirror_mode": {
    "name": "ipython",
    "version": 3
   },
   "file_extension": ".py",
   "mimetype": "text/x-python",
   "name": "python",
   "nbconvert_exporter": "python",
   "pygments_lexer": "ipython3",
   "version": "3.10.5"
  }
 },
 "nbformat": 4,
 "nbformat_minor": 5
}
