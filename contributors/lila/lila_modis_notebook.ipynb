{
 "cells": [
  {
   "cell_type": "code",
   "execution_count": 8,
   "id": "5164b4ba-c898-477a-ae85-4864e3cf0713",
   "metadata": {},
   "outputs": [],
   "source": [
    "import pandas as pd"
   ]
  },
  {
   "cell_type": "code",
   "execution_count": 12,
   "id": "eaa97440-e4bb-4bd7-856c-f81d87cc20ae",
   "metadata": {},
   "outputs": [
    {
     "ename": "SyntaxError",
     "evalue": "(unicode error) 'unicodeescape' codec can't decode bytes in position 2-3: truncated \\UXXXXXXXX escape (538608967.py, line 1)",
     "output_type": "error",
     "traceback": [
      "\u001b[0;36m  Input \u001b[0;32mIn [12]\u001b[0;36m\u001b[0m\n\u001b[0;31m    mesa_west=pd.read_csv('C:\\Users\\d53p361\\Desktop\\Hackweek\\snowmelt_timing\\GrandMesa.csv')\u001b[0m\n\u001b[0m                                                                                           ^\u001b[0m\n\u001b[0;31mSyntaxError\u001b[0m\u001b[0;31m:\u001b[0m (unicode error) 'unicodeescape' codec can't decode bytes in position 2-3: truncated \\UXXXXXXXX escape\n"
     ]
    }
   ],
   "source": [
    "mesa_west=pd.read_csv('C:\\Users\\d53p361\\Desktop\\Hackweek\\snowmelt_timing\\GrandMesa.csv')\n",
    "head(mesa_west)"
   ]
  },
  {
   "cell_type": "code",
   "execution_count": null,
   "id": "d4887df1-1c43-472c-92f6-f666e12341ad",
   "metadata": {},
   "outputs": [],
   "source": []
  }
 ],
 "metadata": {
  "kernelspec": {
   "display_name": "Python 3 (ipykernel)",
   "language": "python",
   "name": "python3"
  },
  "language_info": {
   "codemirror_mode": {
    "name": "ipython",
    "version": 3
   },
   "file_extension": ".py",
   "mimetype": "text/x-python",
   "name": "python",
   "nbconvert_exporter": "python",
   "pygments_lexer": "ipython3",
   "version": "3.10.5"
  }
 },
 "nbformat": 4,
 "nbformat_minor": 5
}
