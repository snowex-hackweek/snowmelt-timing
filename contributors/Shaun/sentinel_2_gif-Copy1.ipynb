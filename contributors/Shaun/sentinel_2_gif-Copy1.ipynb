{
 "cells": [
  {
   "cell_type": "code",
   "execution_count": null,
   "id": "6881a168-aa05-4f5b-b18d-e30ab92e5e97",
   "metadata": {},
   "outputs": [],
   "source": [
    "import distributed\n",
    "import dask\n",
    "import pystac_client\n",
    "from dask.distributed import Client\n",
    "import ipyleaflet\n",
    "import planetary_computer as pc\n",
    "import IPython.display as dsp\n",
    "import geogif\n",
    "import stackstac"
   ]
  },
  {
   "cell_type": "code",
   "execution_count": null,
   "id": "b536a0b1-7561-45fd-848d-bc3439ad91b1",
   "metadata": {},
   "outputs": [],
   "source": [
    "# Paste /proxy/localhost:8787 for cluster diagnostics\n",
    "client = Client(local_directory='/tmp', processes=False)"
   ]
  },
  {
   "cell_type": "code",
   "execution_count": null,
   "id": "b2f1f4de-dfe0-4fa1-b47d-4ff6693aeb5f",
   "metadata": {},
   "outputs": [],
   "source": [
    "m = ipyleaflet.Map(scroll_wheel_zoom=True)\n",
    "m.center = 39.03053, -108.0322\n",
    "m.zoom = 12\n",
    "m.layout.height = \"800px\"\n",
    "m"
   ]
  },
  {
   "cell_type": "code",
   "execution_count": null,
   "id": "bc7c939a-c0ce-46de-a7a6-6d4c449a26de",
   "metadata": {},
   "outputs": [],
   "source": [
    "bbox = (m.west, m.south, m.east, m.north)"
   ]
  },
  {
   "cell_type": "code",
   "execution_count": null,
   "id": "ce1eebbe-0073-4f29-9256-e10205ad77ce",
   "metadata": {},
   "outputs": [],
   "source": [
    "URL = \"https://earth-search.aws.element84.com/v0\"\n",
    "catalog = pystac_client.Client.open(URL)\n",
    "\n",
    "search = catalog.search(\n",
    "    collections=[\"sentinel-s2-l2a-cogs\"],\n",
    "    bbox=bbox,\n",
    ")"
   ]
  },
  {
   "cell_type": "code",
   "execution_count": null,
   "id": "4ef69b23-a1e2-4e1e-a75f-e84161d8f973",
   "metadata": {},
   "outputs": [],
   "source": [
    "%%time\n",
    "items = pc.sign(search)\n",
    "len(items)"
   ]
  },
  {
   "cell_type": "code",
   "execution_count": null,
   "id": "a972a809-5caf-4e46-98f4-974a0eb56219",
   "metadata": {},
   "outputs": [],
   "source": [
    "dsp.GeoJSON(items.to_dict())"
   ]
  },
  {
   "cell_type": "code",
   "execution_count": null,
   "id": "a35066cc-0665-416a-afb7-c0834a4ccbf5",
   "metadata": {},
   "outputs": [],
   "source": [
    "%%time\n",
    "epsg_code=32612\n",
    "stack = stackstac.stack(items, epsg=epsg_code, bounds_latlon=bbox)\n",
    "stack"
   ]
  },
  {
   "cell_type": "code",
   "execution_count": null,
   "id": "bcff147c-7f44-42ba-9548-2e652d4e20f7",
   "metadata": {},
   "outputs": [],
   "source": [
    "# use common_name for bands\n",
    "stack = stack.assign_coords(band=stack.common_name.fillna(stack.band).rename(\"band\"))\n",
    "stack.band"
   ]
  },
  {
   "cell_type": "code",
   "execution_count": null,
   "id": "1a4d9e1d-ed25-4ee2-9e37-bac10091f7d5",
   "metadata": {},
   "outputs": [],
   "source": [
    "stack.sel(band=[\"red\", \"green\", \"blue\"])"
   ]
  },
  {
   "cell_type": "code",
   "execution_count": null,
   "id": "aaf7f3c3-300c-40c0-a6b7-706362ea7f23",
   "metadata": {},
   "outputs": [],
   "source": [
    "# Make a bitmask---when we bitwise-and it with the data, it leaves just the 4 bits we care about\n",
    "mask_bitfields = [1, 2, 3, 4]  # dilated cloud, cirrus, cloud, cloud shadow\n",
    "bitmask = 0\n",
    "for field in mask_bitfields:\n",
    "    bitmask |= 1 << field\n",
    "\n",
    "bin(bitmask)"
   ]
  },
  {
   "cell_type": "code",
   "execution_count": null,
   "id": "42950f39-b78d-4c43-b59f-a00cce063e79",
   "metadata": {},
   "outputs": [],
   "source": [
    "qa = stack.sel(band=\"overview\")\n",
    "#bad = qa & bitmask  # just look at those 4 bits\n",
    "\n",
    "#good = stack.where(bad == 0)  # mask pixels where any one of those bits are set"
   ]
  },
  {
   "cell_type": "code",
   "execution_count": null,
   "id": "f67ba9f2-fee9-474c-b7b5-637b9525c76c",
   "metadata": {},
   "outputs": [],
   "source": [
    "good=stack"
   ]
  },
  {
   "cell_type": "code",
   "execution_count": null,
   "id": "bbb6aeb8-6f88-4f32-bd56-90da756197b8",
   "metadata": {},
   "outputs": [],
   "source": [
    "# What's the typical interval between scenes?\n",
    "good.time.diff(\"time\").dt.days.plot.hist();"
   ]
  },
  {
   "cell_type": "code",
   "execution_count": null,
   "id": "80ff240b-d848-488f-b120-cec2bce23a24",
   "metadata": {},
   "outputs": [],
   "source": [
    "# Make biannual median composites (`2Q` means 2 quarters)\n",
    "composites = good#.resample(time=\"2Q\").median(\"time\")\n",
    "composites"
   ]
  },
  {
   "cell_type": "code",
   "execution_count": null,
   "id": "60f898d9-d970-4963-b565-8a49c9fb40e6",
   "metadata": {},
   "outputs": [],
   "source": [
    "rgb = composites.sel(band=[\"red\", \"green\", \"blue\"])\n",
    "rgb"
   ]
  },
  {
   "cell_type": "code",
   "execution_count": null,
   "id": "476d5a61-faed-41f5-92ca-37f6867f2b67",
   "metadata": {},
   "outputs": [],
   "source": [
    "vir, swir = composites.sel(band=\"nir\"), composites.sel(band=\"swir16\")\n",
    "# NDVI is (B8-B4)/(B8+B4) https://sentinel.esa.int/web/sentinel/technical-guides/sentinel-2-msi/level-2a/algorithm\n",
    "# NDSI is (B3-B11)/(B3+B11) https://sentinel.esa.int/web/sentinel/technical-guides/sentinel-2-msi/level-2a/algorithm\n",
    "ndsi = (vir-swir)/(vir+swir)\n"
   ]
  },
  {
   "cell_type": "code",
   "execution_count": null,
   "id": "f858bac0-18a8-4a12-ba78-8d8fdd35819a",
   "metadata": {},
   "outputs": [],
   "source": [
    "cleaned = rgb.ffill(\"time\")[1:]"
   ]
  },
  {
   "cell_type": "code",
   "execution_count": null,
   "id": "7550729d-5475-478f-850a-56b986086468",
   "metadata": {},
   "outputs": [],
   "source": [
    "%%time\n",
    "gif_img = geogif.dgif(cleaned, fps=5).compute()"
   ]
  },
  {
   "cell_type": "code",
   "execution_count": null,
   "id": "1bd3db4f-568c-4fe0-8492-9904fe49fe46",
   "metadata": {},
   "outputs": [],
   "source": [
    "# we turned ~7GiB of data into a 4MB GIF!\n",
    "dask.utils.format_bytes(len(gif_img.data))"
   ]
  },
  {
   "cell_type": "code",
   "execution_count": null,
   "id": "a0b9beba-0eae-4e90-b81a-7db03ce741bc",
   "metadata": {},
   "outputs": [],
   "source": [
    "gif_img"
   ]
  },
  {
   "cell_type": "code",
   "execution_count": null,
   "id": "d9d8f505-4969-4360-86df-6f2e884794d9",
   "metadata": {},
   "outputs": [],
   "source": [
    "cleaned = ndsi.ffill(\"time\")[1:]"
   ]
  },
  {
   "cell_type": "code",
   "execution_count": null,
   "id": "7f1bb56c-47b5-4f85-80fd-2c7504d311be",
   "metadata": {},
   "outputs": [],
   "source": [
    "%%time\n",
    "gif_img = geogif.dgif(cleaned, fps=5).compute()"
   ]
  },
  {
   "cell_type": "code",
   "execution_count": null,
   "id": "04d05065-6a38-4b18-a4d2-7ab2468f3131",
   "metadata": {},
   "outputs": [],
   "source": [
    "# we turned ~7GiB of data into a 4MB GIF!\n",
    "dask.utils.format_bytes(len(gif_img.data))"
   ]
  },
  {
   "cell_type": "code",
   "execution_count": null,
   "id": "84067a39-2bd6-49e0-9e19-8422047696b7",
   "metadata": {},
   "outputs": [],
   "source": [
    "gif_img"
   ]
  },
  {
   "cell_type": "code",
   "execution_count": null,
   "id": "c0c983a6-621f-4633-9656-df9e678c1f34",
   "metadata": {},
   "outputs": [],
   "source": []
  }
 ],
 "metadata": {
  "kernelspec": {
   "display_name": "Python 3 (ipykernel)",
   "language": "python",
   "name": "python3"
  },
  "language_info": {
   "codemirror_mode": {
    "name": "ipython",
    "version": 3
   },
   "file_extension": ".py",
   "mimetype": "text/x-python",
   "name": "python",
   "nbconvert_exporter": "python",
   "pygments_lexer": "ipython3",
   "version": "3.10.5"
  }
 },
 "nbformat": 4,
 "nbformat_minor": 5
}
