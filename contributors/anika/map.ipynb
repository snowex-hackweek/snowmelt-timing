{
 "cells": [
  {
   "cell_type": "code",
   "execution_count": 1,
   "id": "b17dc557-d2b3-4a8b-90b2-842aa1586fdb",
   "metadata": {},
   "outputs": [],
   "source": [
    "import ipyleaflet\n",
    "from ipyleaflet import Map, GeoData, Rectangle, basemaps, LayersControl, basemap_to_tiles, TileLayer, SplitMapControl, Polygon, MagnifyingGlass\n",
    "import ipywidgets"
   ]
  },
  {
   "cell_type": "code",
   "execution_count": 135,
   "id": "d9df8f62-7259-41d2-9c54-cee2237b8d5d",
   "metadata": {},
   "outputs": [],
   "source": [
    "\n",
    "# finding the center of the box\n",
    "map_ctr = [39,-108]"
   ]
  },
  {
   "cell_type": "code",
   "execution_count": 153,
   "id": "d48fbc5d-f995-4aed-8115-57f0e56ad30a",
   "metadata": {},
   "outputs": [
    {
     "data": {
      "application/vnd.jupyter.widget-view+json": {
       "model_id": "09dd3b1adaf24438b94de666fa44b1c9",
       "version_major": 2,
       "version_minor": 0
      },
      "text/plain": [
       "Map(center=[39, -108], controls=(ZoomControl(options=['position', 'zoom_in_text', 'zoom_in_title', 'zoom_out_t…"
      ]
     },
     "metadata": {},
     "output_type": "display_data"
    }
   ],
   "source": [
    "# create a map, with a somewhat basic backdrop\n",
    "m = Map(basemap=basemaps.OpenTopoMap, center=map_ctr, zoom=10.5)\n",
    "#basemap=basemaps.CartoDB.Positron\n",
    "# view the map\n",
    "m"
   ]
  },
  {
   "cell_type": "code",
   "execution_count": 154,
   "id": "92212087-b0c2-4e42-8821-ec4a5b961873",
   "metadata": {},
   "outputs": [
    {
     "data": {
      "text/html": [
       "<div>\n",
       "<style scoped>\n",
       "    .dataframe tbody tr th:only-of-type {\n",
       "        vertical-align: middle;\n",
       "    }\n",
       "\n",
       "    .dataframe tbody tr th {\n",
       "        vertical-align: top;\n",
       "    }\n",
       "\n",
       "    .dataframe thead th {\n",
       "        text-align: right;\n",
       "    }\n",
       "</style>\n",
       "<table border=\"1\" class=\"dataframe\">\n",
       "  <thead>\n",
       "    <tr style=\"text-align: right;\">\n",
       "      <th></th>\n",
       "      <th>State</th>\n",
       "      <th>Location</th>\n",
       "      <th>Site</th>\n",
       "      <th>PitID</th>\n",
       "      <th>Latitude</th>\n",
       "      <th>Longitude</th>\n",
       "      <th>Pit Count</th>\n",
       "      <th>Snow Class</th>\n",
       "      <th>geometry</th>\n",
       "    </tr>\n",
       "  </thead>\n",
       "  <tbody>\n",
       "    <tr>\n",
       "      <th>0</th>\n",
       "      <td>CA</td>\n",
       "      <td>American River Basin</td>\n",
       "      <td>Caples Lake</td>\n",
       "      <td>CAAMCL</td>\n",
       "      <td>38.71029</td>\n",
       "      <td>-120.04186</td>\n",
       "      <td>7</td>\n",
       "      <td>3</td>\n",
       "      <td>POINT (-120.04186 38.71029)</td>\n",
       "    </tr>\n",
       "    <tr>\n",
       "      <th>1</th>\n",
       "      <td>CA</td>\n",
       "      <td>Mammoth Lakes</td>\n",
       "      <td>CUES</td>\n",
       "      <td>CAMLCP</td>\n",
       "      <td>37.64324</td>\n",
       "      <td>-119.02906</td>\n",
       "      <td>9</td>\n",
       "      <td>5</td>\n",
       "      <td>POINT (-119.02906 37.64324)</td>\n",
       "    </tr>\n",
       "    <tr>\n",
       "      <th>2</th>\n",
       "      <td>CA</td>\n",
       "      <td>Mammoth Lakes</td>\n",
       "      <td>Panorama Dome</td>\n",
       "      <td>CAMLPD</td>\n",
       "      <td>37.61964</td>\n",
       "      <td>-119.00029</td>\n",
       "      <td>6</td>\n",
       "      <td>6</td>\n",
       "      <td>POINT (-119.00029 37.61964)</td>\n",
       "    </tr>\n",
       "    <tr>\n",
       "      <th>3</th>\n",
       "      <td>CA</td>\n",
       "      <td>Sagehen Creek</td>\n",
       "      <td>Forest</td>\n",
       "      <td>CASHFO</td>\n",
       "      <td>39.42956</td>\n",
       "      <td>-120.24211</td>\n",
       "      <td>7</td>\n",
       "      <td>6</td>\n",
       "      <td>POINT (-120.24211 39.42956)</td>\n",
       "    </tr>\n",
       "    <tr>\n",
       "      <th>4</th>\n",
       "      <td>CA</td>\n",
       "      <td>Sagehen Creek</td>\n",
       "      <td>Open</td>\n",
       "      <td>CASHOP</td>\n",
       "      <td>39.43037</td>\n",
       "      <td>-120.23982</td>\n",
       "      <td>7</td>\n",
       "      <td>6</td>\n",
       "      <td>POINT (-120.23982 39.43037)</td>\n",
       "    </tr>\n",
       "  </tbody>\n",
       "</table>\n",
       "</div>"
      ],
      "text/plain": [
       "  State              Location           Site   PitID  Latitude  Longitude  \\\n",
       "0    CA  American River Basin    Caples Lake  CAAMCL  38.71029 -120.04186   \n",
       "1    CA         Mammoth Lakes           CUES  CAMLCP  37.64324 -119.02906   \n",
       "2    CA         Mammoth Lakes  Panorama Dome  CAMLPD  37.61964 -119.00029   \n",
       "3    CA         Sagehen Creek         Forest  CASHFO  39.42956 -120.24211   \n",
       "4    CA         Sagehen Creek           Open  CASHOP  39.43037 -120.23982   \n",
       "\n",
       "   Pit Count  Snow Class                     geometry  \n",
       "0          7           3  POINT (-120.04186 38.71029)  \n",
       "1          9           5  POINT (-119.02906 37.64324)  \n",
       "2          6           6  POINT (-119.00029 37.61964)  \n",
       "3          7           6  POINT (-120.24211 39.42956)  \n",
       "4          7           6  POINT (-120.23982 39.43037)  "
      ]
     },
     "execution_count": 154,
     "metadata": {},
     "output_type": "execute_result"
    }
   ],
   "source": [
    "import geopandas as gpd\n",
    "import requests\n",
    "url = \"https://gist.githubusercontent.com/meganmason/dde13c46a90875e364b1c25a31bff1d8/raw/d361e1a56eeb867bd89c87b4dc13ed431ffff6f6/SNEX_TS_SP_avg_prelim_Hackweek.geojson\"\n",
    "gdf = gpd.read_file(url)\n",
    "gdf.head()"
   ]
  },
  {
   "cell_type": "code",
   "execution_count": 155,
   "id": "4261c94b-3fb3-4a3e-bc16-027ad7569265",
   "metadata": {},
   "outputs": [
    {
     "data": {
      "text/html": [
       "<div>\n",
       "<style scoped>\n",
       "    .dataframe tbody tr th:only-of-type {\n",
       "        vertical-align: middle;\n",
       "    }\n",
       "\n",
       "    .dataframe tbody tr th {\n",
       "        vertical-align: top;\n",
       "    }\n",
       "\n",
       "    .dataframe thead th {\n",
       "        text-align: right;\n",
       "    }\n",
       "</style>\n",
       "<table border=\"1\" class=\"dataframe\">\n",
       "  <thead>\n",
       "    <tr style=\"text-align: right;\">\n",
       "      <th></th>\n",
       "      <th>State</th>\n",
       "      <th>Location</th>\n",
       "      <th>Site</th>\n",
       "      <th>PitID</th>\n",
       "      <th>Latitude</th>\n",
       "      <th>Longitude</th>\n",
       "      <th>Pit Count</th>\n",
       "      <th>Snow Class</th>\n",
       "      <th>geometry</th>\n",
       "    </tr>\n",
       "  </thead>\n",
       "  <tbody>\n",
       "    <tr>\n",
       "      <th>24</th>\n",
       "      <td>CO</td>\n",
       "      <td>Grand Mesa</td>\n",
       "      <td>County Line Open</td>\n",
       "      <td>COGMCO</td>\n",
       "      <td>39.03053</td>\n",
       "      <td>-108.03220</td>\n",
       "      <td>12</td>\n",
       "      <td>2</td>\n",
       "      <td>POINT (-108.03220 39.03053)</td>\n",
       "    </tr>\n",
       "    <tr>\n",
       "      <th>25</th>\n",
       "      <td>CO</td>\n",
       "      <td>Grand Mesa</td>\n",
       "      <td>County Line Tree</td>\n",
       "      <td>COGMCT</td>\n",
       "      <td>39.03223</td>\n",
       "      <td>-108.03438</td>\n",
       "      <td>10</td>\n",
       "      <td>2</td>\n",
       "      <td>POINT (-108.03438 39.03223)</td>\n",
       "    </tr>\n",
       "    <tr>\n",
       "      <th>26</th>\n",
       "      <td>CO</td>\n",
       "      <td>Grand Mesa</td>\n",
       "      <td>Mesa West Open</td>\n",
       "      <td>COGMWO</td>\n",
       "      <td>39.03399</td>\n",
       "      <td>-108.21390</td>\n",
       "      <td>10</td>\n",
       "      <td>2</td>\n",
       "      <td>POINT (-108.21390 39.03399)</td>\n",
       "    </tr>\n",
       "    <tr>\n",
       "      <th>27</th>\n",
       "      <td>CO</td>\n",
       "      <td>Grand Mesa</td>\n",
       "      <td>Mesa West Trees</td>\n",
       "      <td>COGMWT</td>\n",
       "      <td>39.03282</td>\n",
       "      <td>-108.21291</td>\n",
       "      <td>7</td>\n",
       "      <td>2</td>\n",
       "      <td>POINT (-108.21291 39.03282)</td>\n",
       "    </tr>\n",
       "    <tr>\n",
       "      <th>28</th>\n",
       "      <td>CO</td>\n",
       "      <td>Grand Mesa</td>\n",
       "      <td>Skyway Open</td>\n",
       "      <td>COGMSO</td>\n",
       "      <td>39.04511</td>\n",
       "      <td>-108.06209</td>\n",
       "      <td>21</td>\n",
       "      <td>2</td>\n",
       "      <td>POINT (-108.06209 39.04511)</td>\n",
       "    </tr>\n",
       "  </tbody>\n",
       "</table>\n",
       "</div>"
      ],
      "text/plain": [
       "   State    Location              Site   PitID  Latitude  Longitude  \\\n",
       "24    CO  Grand Mesa  County Line Open  COGMCO  39.03053 -108.03220   \n",
       "25    CO  Grand Mesa  County Line Tree  COGMCT  39.03223 -108.03438   \n",
       "26    CO  Grand Mesa    Mesa West Open  COGMWO  39.03399 -108.21390   \n",
       "27    CO  Grand Mesa   Mesa West Trees  COGMWT  39.03282 -108.21291   \n",
       "28    CO  Grand Mesa       Skyway Open  COGMSO  39.04511 -108.06209   \n",
       "\n",
       "    Pit Count  Snow Class                     geometry  \n",
       "24         12           2  POINT (-108.03220 39.03053)  \n",
       "25         10           2  POINT (-108.03438 39.03223)  \n",
       "26         10           2  POINT (-108.21390 39.03399)  \n",
       "27          7           2  POINT (-108.21291 39.03282)  \n",
       "28         21           2  POINT (-108.06209 39.04511)  "
      ]
     },
     "execution_count": 155,
     "metadata": {},
     "output_type": "execute_result"
    }
   ],
   "source": [
    "df=gdf[gdf['PitID'].str.contains('COGM',regex=False)]\n",
    "df.head()"
   ]
  },
  {
   "cell_type": "code",
   "execution_count": 156,
   "id": "19c0a3a1-eacd-41f6-b9cd-772135e0aa81",
   "metadata": {},
   "outputs": [
    {
     "name": "stdout",
     "output_type": "stream",
     "text": [
      "   State    Location              Site   PitID  Latitude  Longitude  \\\n",
      "24    CO  Grand Mesa  County Line Open  COGMCO  39.03053 -108.03220   \n",
      "25    CO  Grand Mesa  County Line Tree  COGMCT  39.03223 -108.03438   \n",
      "26    CO  Grand Mesa    Mesa West Open  COGMWO  39.03399 -108.21390   \n",
      "27    CO  Grand Mesa   Mesa West Trees  COGMWT  39.03282 -108.21291   \n",
      "28    CO  Grand Mesa       Skyway Open  COGMSO  39.04511 -108.06209   \n",
      "\n",
      "    Pit Count  Snow Class                     geometry  \n",
      "24         12           2  POINT (-108.03220 39.03053)  \n",
      "25         10           2  POINT (-108.03438 39.03223)  \n",
      "26         10           2  POINT (-108.21390 39.03399)  \n",
      "27          7           2  POINT (-108.21291 39.03282)  \n",
      "28         21           2  POINT (-108.06209 39.04511)  \n",
      "6 records returned!\n"
     ]
    }
   ],
   "source": [
    "# create the geopandas geometry column from the lat/lon in the pandas df\n",
    "df = gpd.GeoDataFrame(df, geometry=gpd.points_from_xy(df.Longitude, df.Latitude))\n",
    "\n",
    "print(df.head())\n",
    "\n",
    "# how many did we retrieve?\n",
    "print(f'{len(df.index)} records returned!')"
   ]
  },
  {
   "cell_type": "code",
   "execution_count": 157,
   "id": "a79bf61a-3c52-439c-9ff2-c36ac56d3238",
   "metadata": {},
   "outputs": [
    {
     "data": {
      "application/vnd.jupyter.widget-view+json": {
       "model_id": "09dd3b1adaf24438b94de666fa44b1c9",
       "version_major": 2,
       "version_minor": 0
      },
      "text/plain": [
       "Map(bottom=200572.0, center=[39, -108], controls=(ZoomControl(options=['position', 'zoom_in_text', 'zoom_in_ti…"
      ]
     },
     "metadata": {},
     "output_type": "display_data"
    }
   ],
   "source": [
    "# same basemap as above\n",
    "\n",
    "\n",
    "# create a geo_data object\n",
    "geo_data = GeoData(geo_dataframe = df,\n",
    "    style={'color': 'black', 'radius':8, 'fillColor': '#3366cc', 'opacity':0.5, 'weight':1.9, 'dashArray':'2', 'fillOpacity':0.6},\n",
    "    hover_style={'fillColor': 'red' , 'fillOpacity': 0.2},\n",
    "    point_style={'radius': 5, 'color': 'red', 'fillOpacity': 0.8, 'fillColor': 'yellow', 'weight': 3},\n",
    "    name = 'lwc obs.')\n",
    "\n",
    "m.add_layer(geo_data) \n",
    "m.add_control(LayersControl())\n",
    "m"
   ]
  },
  {
   "cell_type": "code",
   "execution_count": null,
   "id": "3bb85a28-dc5e-4f4d-8baf-27cb62d29d33",
   "metadata": {},
   "outputs": [],
   "source": []
  }
 ],
 "metadata": {
  "kernelspec": {
   "display_name": "Python 3 (ipykernel)",
   "language": "python",
   "name": "python3"
  },
  "language_info": {
   "codemirror_mode": {
    "name": "ipython",
    "version": 3
   },
   "file_extension": ".py",
   "mimetype": "text/x-python",
   "name": "python",
   "nbconvert_exporter": "python",
   "pygments_lexer": "ipython3",
   "version": "3.10.5"
  }
 },
 "nbformat": 4,
 "nbformat_minor": 5
}
